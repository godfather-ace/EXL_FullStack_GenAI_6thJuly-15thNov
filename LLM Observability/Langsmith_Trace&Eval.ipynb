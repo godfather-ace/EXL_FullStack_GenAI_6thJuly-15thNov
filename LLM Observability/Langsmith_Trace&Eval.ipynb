{
 "cells": [
  {
   "cell_type": "markdown",
   "metadata": {
    "id": "dv2cu6L2UpTy"
   },
   "source": [
    "## Library installation"
   ]
  },
  {
   "cell_type": "code",
   "execution_count": null,
   "metadata": {
    "colab": {
     "base_uri": "https://localhost:8080/"
    },
    "id": "9fSE2i5YGvNO",
    "outputId": "9403c777-acae-4586-bbb7-5c524465b457"
   },
   "outputs": [
    {
     "name": "stdout",
     "output_type": "stream",
     "text": [
      "Requirement already satisfied: langsmith in /usr/local/lib/python3.10/dist-packages (0.1.142)\n",
      "Requirement already satisfied: langchain in /usr/local/lib/python3.10/dist-packages (0.3.7)\n",
      "Collecting langchain_openai\n",
      "  Downloading langchain_openai-0.2.8-py3-none-any.whl.metadata (2.6 kB)\n",
      "Requirement already satisfied: langchain_core in /usr/local/lib/python3.10/dist-packages (0.3.15)\n",
      "Collecting python-dotenv\n",
      "  Downloading python_dotenv-1.0.1-py3-none-any.whl.metadata (23 kB)\n",
      "Requirement already satisfied: httpx<1,>=0.23.0 in /usr/local/lib/python3.10/dist-packages (from langsmith) (0.27.2)\n",
      "Requirement already satisfied: orjson<4.0.0,>=3.9.14 in /usr/local/lib/python3.10/dist-packages (from langsmith) (3.10.11)\n",
      "Requirement already satisfied: pydantic<3,>=1 in /usr/local/lib/python3.10/dist-packages (from langsmith) (2.9.2)\n",
      "Requirement already satisfied: requests<3,>=2 in /usr/local/lib/python3.10/dist-packages (from langsmith) (2.32.3)\n",
      "Requirement already satisfied: requests-toolbelt<2.0.0,>=1.0.0 in /usr/local/lib/python3.10/dist-packages (from langsmith) (1.0.0)\n",
      "Requirement already satisfied: PyYAML>=5.3 in /usr/local/lib/python3.10/dist-packages (from langchain) (6.0.2)\n",
      "Requirement already satisfied: SQLAlchemy<3,>=1.4 in /usr/local/lib/python3.10/dist-packages (from langchain) (2.0.36)\n",
      "Requirement already satisfied: aiohttp<4.0.0,>=3.8.3 in /usr/local/lib/python3.10/dist-packages (from langchain) (3.10.10)\n",
      "Requirement already satisfied: async-timeout<5.0.0,>=4.0.0 in /usr/local/lib/python3.10/dist-packages (from langchain) (4.0.3)\n",
      "Requirement already satisfied: langchain-text-splitters<0.4.0,>=0.3.0 in /usr/local/lib/python3.10/dist-packages (from langchain) (0.3.2)\n",
      "Requirement already satisfied: numpy<2,>=1 in /usr/local/lib/python3.10/dist-packages (from langchain) (1.26.4)\n",
      "Requirement already satisfied: tenacity!=8.4.0,<10,>=8.1.0 in /usr/local/lib/python3.10/dist-packages (from langchain) (9.0.0)\n",
      "Collecting langchain_core\n",
      "  Downloading langchain_core-0.3.18-py3-none-any.whl.metadata (6.3 kB)\n",
      "Requirement already satisfied: openai<2.0.0,>=1.54.0 in /usr/local/lib/python3.10/dist-packages (from langchain_openai) (1.54.3)\n",
      "Collecting tiktoken<1,>=0.7 (from langchain_openai)\n",
      "  Downloading tiktoken-0.8.0-cp310-cp310-manylinux_2_17_x86_64.manylinux2014_x86_64.whl.metadata (6.6 kB)\n",
      "Requirement already satisfied: jsonpatch<2.0,>=1.33 in /usr/local/lib/python3.10/dist-packages (from langchain_core) (1.33)\n",
      "Requirement already satisfied: packaging<25,>=23.2 in /usr/local/lib/python3.10/dist-packages (from langchain_core) (24.2)\n",
      "Requirement already satisfied: typing-extensions>=4.7 in /usr/local/lib/python3.10/dist-packages (from langchain_core) (4.12.2)\n",
      "Requirement already satisfied: aiohappyeyeballs>=2.3.0 in /usr/local/lib/python3.10/dist-packages (from aiohttp<4.0.0,>=3.8.3->langchain) (2.4.3)\n",
      "Requirement already satisfied: aiosignal>=1.1.2 in /usr/local/lib/python3.10/dist-packages (from aiohttp<4.0.0,>=3.8.3->langchain) (1.3.1)\n",
      "Requirement already satisfied: attrs>=17.3.0 in /usr/local/lib/python3.10/dist-packages (from aiohttp<4.0.0,>=3.8.3->langchain) (24.2.0)\n",
      "Requirement already satisfied: frozenlist>=1.1.1 in /usr/local/lib/python3.10/dist-packages (from aiohttp<4.0.0,>=3.8.3->langchain) (1.5.0)\n",
      "Requirement already satisfied: multidict<7.0,>=4.5 in /usr/local/lib/python3.10/dist-packages (from aiohttp<4.0.0,>=3.8.3->langchain) (6.1.0)\n",
      "Requirement already satisfied: yarl<2.0,>=1.12.0 in /usr/local/lib/python3.10/dist-packages (from aiohttp<4.0.0,>=3.8.3->langchain) (1.17.1)\n",
      "Requirement already satisfied: anyio in /usr/local/lib/python3.10/dist-packages (from httpx<1,>=0.23.0->langsmith) (3.7.1)\n",
      "Requirement already satisfied: certifi in /usr/local/lib/python3.10/dist-packages (from httpx<1,>=0.23.0->langsmith) (2024.8.30)\n",
      "Requirement already satisfied: httpcore==1.* in /usr/local/lib/python3.10/dist-packages (from httpx<1,>=0.23.0->langsmith) (1.0.6)\n",
      "Requirement already satisfied: idna in /usr/local/lib/python3.10/dist-packages (from httpx<1,>=0.23.0->langsmith) (3.10)\n",
      "Requirement already satisfied: sniffio in /usr/local/lib/python3.10/dist-packages (from httpx<1,>=0.23.0->langsmith) (1.3.1)\n",
      "Requirement already satisfied: h11<0.15,>=0.13 in /usr/local/lib/python3.10/dist-packages (from httpcore==1.*->httpx<1,>=0.23.0->langsmith) (0.14.0)\n",
      "Requirement already satisfied: jsonpointer>=1.9 in /usr/local/lib/python3.10/dist-packages (from jsonpatch<2.0,>=1.33->langchain_core) (3.0.0)\n",
      "Requirement already satisfied: distro<2,>=1.7.0 in /usr/local/lib/python3.10/dist-packages (from openai<2.0.0,>=1.54.0->langchain_openai) (1.9.0)\n",
      "Requirement already satisfied: jiter<1,>=0.4.0 in /usr/local/lib/python3.10/dist-packages (from openai<2.0.0,>=1.54.0->langchain_openai) (0.7.0)\n",
      "Requirement already satisfied: tqdm>4 in /usr/local/lib/python3.10/dist-packages (from openai<2.0.0,>=1.54.0->langchain_openai) (4.66.6)\n",
      "Requirement already satisfied: annotated-types>=0.6.0 in /usr/local/lib/python3.10/dist-packages (from pydantic<3,>=1->langsmith) (0.7.0)\n",
      "Requirement already satisfied: pydantic-core==2.23.4 in /usr/local/lib/python3.10/dist-packages (from pydantic<3,>=1->langsmith) (2.23.4)\n",
      "Requirement already satisfied: charset-normalizer<4,>=2 in /usr/local/lib/python3.10/dist-packages (from requests<3,>=2->langsmith) (3.4.0)\n",
      "Requirement already satisfied: urllib3<3,>=1.21.1 in /usr/local/lib/python3.10/dist-packages (from requests<3,>=2->langsmith) (2.2.3)\n",
      "Requirement already satisfied: greenlet!=0.4.17 in /usr/local/lib/python3.10/dist-packages (from SQLAlchemy<3,>=1.4->langchain) (3.1.1)\n",
      "Requirement already satisfied: regex>=2022.1.18 in /usr/local/lib/python3.10/dist-packages (from tiktoken<1,>=0.7->langchain_openai) (2024.9.11)\n",
      "Requirement already satisfied: exceptiongroup in /usr/local/lib/python3.10/dist-packages (from anyio->httpx<1,>=0.23.0->langsmith) (1.2.2)\n",
      "Requirement already satisfied: propcache>=0.2.0 in /usr/local/lib/python3.10/dist-packages (from yarl<2.0,>=1.12.0->aiohttp<4.0.0,>=3.8.3->langchain) (0.2.0)\n",
      "Downloading langchain_openai-0.2.8-py3-none-any.whl (50 kB)\n",
      "\u001b[2K   \u001b[90m━━━━━━━━━━━━━━━━━━━━━━━━━━━━━━━━━━━━━━━━\u001b[0m \u001b[32m50.4/50.4 kB\u001b[0m \u001b[31m1.2 MB/s\u001b[0m eta \u001b[36m0:00:00\u001b[0m\n",
      "\u001b[?25hDownloading langchain_core-0.3.18-py3-none-any.whl (409 kB)\n",
      "\u001b[2K   \u001b[90m━━━━━━━━━━━━━━━━━━━━━━━━━━━━━━━━━━━━━━━━\u001b[0m \u001b[32m409.3/409.3 kB\u001b[0m \u001b[31m12.7 MB/s\u001b[0m eta \u001b[36m0:00:00\u001b[0m\n",
      "\u001b[?25hDownloading python_dotenv-1.0.1-py3-none-any.whl (19 kB)\n",
      "Downloading tiktoken-0.8.0-cp310-cp310-manylinux_2_17_x86_64.manylinux2014_x86_64.whl (1.2 MB)\n",
      "\u001b[2K   \u001b[90m━━━━━━━━━━━━━━━━━━━━━━━━━━━━━━━━━━━━━━━━\u001b[0m \u001b[32m1.2/1.2 MB\u001b[0m \u001b[31m19.3 MB/s\u001b[0m eta \u001b[36m0:00:00\u001b[0m\n",
      "\u001b[?25hInstalling collected packages: python-dotenv, tiktoken, langchain_core, langchain_openai\n",
      "  Attempting uninstall: langchain_core\n",
      "    Found existing installation: langchain-core 0.3.15\n",
      "    Uninstalling langchain-core-0.3.15:\n",
      "      Successfully uninstalled langchain-core-0.3.15\n",
      "Successfully installed langchain_core-0.3.18 langchain_openai-0.2.8 python-dotenv-1.0.1 tiktoken-0.8.0\n"
     ]
    }
   ],
   "source": [
    "!pip install langsmith langchain langchain_openai langchain_core python-dotenv"
   ]
  },
  {
   "cell_type": "markdown",
   "metadata": {
    "id": "Qz3qvy_1UsGb"
   },
   "source": [
    "## Library Imports"
   ]
  },
  {
   "cell_type": "code",
   "execution_count": null,
   "metadata": {
    "id": "OSua5JyuGx6w"
   },
   "outputs": [],
   "source": [
    "from langchain_openai import ChatOpenAI\n",
    "from langchain_core.prompts import ChatPromptTemplate\n",
    "from langchain_core.output_parsers import StrOutputParser\n",
    "from langsmith import Client\n",
    "from dotenv import load_dotenv\n",
    "import os"
   ]
  },
  {
   "cell_type": "markdown",
   "metadata": {
    "id": "H0vpxseKUt9K"
   },
   "source": [
    "## Setting OpenAI and Langchain API's"
   ]
  },
  {
   "cell_type": "code",
   "execution_count": null,
   "metadata": {
    "id": "wBG6oLIXLuRB"
   },
   "outputs": [],
   "source": [
    "load_dotenv()\n",
    "#os.environ[\"OPENAI_API_KEY\"] \n",
    "#os.environ[\"LANGCHAIN_TRACING_V2\"] = \"true\"\n",
    "#os.environ[\"LANGCHAIN_API_KEY\"] "
   ]
  },
  {
   "cell_type": "markdown",
   "metadata": {
    "id": "yfKpZnw5UtlM"
   },
   "source": [
    "## Defining the Prompt Template, Model Parameters and Output Parser"
   ]
  },
  {
   "cell_type": "code",
   "execution_count": 4,
   "metadata": {
    "id": "yGP3bxjOLwkt"
   },
   "outputs": [],
   "source": [
    "prompt = ChatPromptTemplate.from_messages(\n",
    "    [\n",
    "        (\"system\", \"You are an assistant who responds to user requests using context\"),\n",
    "        (\"user\",\"Question:{question}\\nContext:{context}\")\n",
    "    ]\n",
    ")\n",
    "model = ChatOpenAI(model=\"gpt-4o-mini\")\n",
    "output_parser = StrOutputParser()"
   ]
  },
  {
   "cell_type": "markdown",
   "metadata": {
    "id": "wxBwsz12U33z"
   },
   "source": [
    "## Chaining Prompt, Model and Output Parser"
   ]
  },
  {
   "cell_type": "code",
   "execution_count": 5,
   "metadata": {
    "id": "vkvkZ39fMcsL"
   },
   "outputs": [],
   "source": [
    "chain=prompt|model|output_parser"
   ]
  },
  {
   "cell_type": "markdown",
   "metadata": {
    "id": "czrifk-BU7dh"
   },
   "source": [
    "## Defining the Questions and Context"
   ]
  },
  {
   "cell_type": "code",
   "execution_count": 6,
   "metadata": {
    "id": "DOeS4XG9OnkJ"
   },
   "outputs": [],
   "source": [
    "question = [\"What is the Game of Thrones\", \"Who are the main characters in the Game of Thrones\", \"Who dies in the Game of Thrones\"]\n",
    "context = \"\"\"\n",
    "A Game of Thrones takes place over the course of one year on or near the fictional continent of Westeros. The story begins when King Robert visits the northern castle Winterfell to ask Ned Stark to be his right-hand assistant, or Hand of the King. The previous Hand, Jon Arryn, died under suspicious circumstances. Robert comes with his queen, Cersei Lannister, and his retinue, which includes a number of Lannisters. Just after the royal party arrives, Ned’s wife, Catelyn, receives a message claiming that the Lannister family was responsible for the death of the former Hand. She tells Ned, who accepts the position as Hand in order to protect Robert from the Lannisters. Ned’s son Bran then discovers Cersei Lannister and her brother Jaime Lannister having sex, and Jaime pushes Bran from a window to silence him. Everyone thinks Bran simply fell while climbing around the castle.\n",
    "While Bran is still unconscious, Ned leaves Winterfell and rides south with Robert. The same day, Ned’s bastard son, Jon, leaves to serve at the Wall, a massive structure that protects Westeros from the wilderness of the far North. The group of men sworn to defend the Wall, the Night’s Watch, have been receiving reports of strange creatures and have been losing men with increasing frequency. Tyrion Lannister, a little person who is brother to Cersei and Jaime, travels with Jon to the Wall to see the massive structure. Meanwhile, on a continent east of Westeros, Daenerys Targaryen marries the warlord Khal Drogo, one of the leaders of the Dothraki people. Daenerys and her brother Viserys are the last surviving members of the family Robert defeated to become king, the Targaryens. They are an old family said to be descended from dragons, and Viserys thinks with Khal Drogo’s army he can retake the throne. A knight named Ser Jorah Mormont, exiled by Ned Stark, pledges he will help. Daenerys receives three dragon eggs as a wedding gift and becomes immediately fascinated by them.\n",
    "On the trip south to the capital, called King’s Landing, Robert and Cersei’s son, Joffrey, and Ned’s daughter Sansa, who everyone presumes will be married one day, go for a walk. When Joffrey sees Arya, Ned’s other daughter and sister to Sansa, practicing her swordfighting with a boy, he decides to show them he’s a better fighter. As pets, all of the Stark children have direwolf pups, a wolf breed larger than normal wolves that also happens to be the symbol of the Stark house, and Arya’s wolf injures Joffrey defending her. Though Sansa knows Joffrey instigated the fight, she will not tell on Joffrey because she’s in love with him. As punishment, Cersei wants Arya’s wolf killed, but since it ran away after hurting Joffrey, Cersei demands that Ned kill Sansa’s wolf instead. Meanwhile, an assassin tries to kill the unconscious Bran and fails. Ned finally reaches King’s Landing to find that Catelyn has sailed to the city in secret to discover the truth about the assassin. She has the dagger the assassin used, and after examining it, Catelyn’s childhood friend Littlefinger recognizes it as belonging to Tyrion Lannister. Ned tells Catelyn he will try to determine who killed the former Hand, Jon Arryn, and who tried to kill Bran. Bran finally wakes from his coma, but he doesn’t remember how he fell. Tyrion visits him on his way south from the Wall to deliver a greeting from Jon. Tyrion continues south as Catelyn starts back north, and when their paths cross Catelyn has him seized for trying to kill Bran.\n",
    "In King’s Landing, Ned slowly begins to unravel the mystery of why the previous Hand was killed. He knows it has to do with something the Hand learned about King Robert’s children. Through a spy, Robert learns that Daenerys Targaryen is pregnant. He wants to assassinate her because he fears she and her son will one day challenge Robert’s right to the throne. Disgusted with Robert’s plan, Ned resigns as Hand. That night, Jaime and his men confront Ned about Tyrion’s capture. Jaime kills Ned’s men and Ned breaks his leg while fighting. The following day, Robert reinstates Ned as Hand. While Robert is gone hunting, Ned orders the execution of a rogue knight loyal to the Lannister family who has been pillaging villages. Further north, Catelyn takes Tyrion to her sister Lysa Arryn’s castle, the Eyrie, which is in a mountainous area called The Vale. Lysa accuses Tyrion of arranging the murder of both Jon Arryn and Bran. Tyrion denies the accusations and demands a trial by combat. A knight fights on Lysa’s behalf, and a mercenary fights on Tyrion’s behalf. Tyrion’s mercenary wins. While Tyrion rides from the Eyrie, a group of mountain clansmen try to kill him, but he promises to help them take The Vale and convinces them to join him.\n",
    "In the east, as Khal Drogo and his Dothraki followers head back to Vaes Dothrak, their capital, Viserys becomes increasingly angry that Drogo has not provided him with an army with which to wage war on Westeros. During a feast he attacks Daenerys in a rage, and Khal Drogo has Viserys killed by dumping molten gold on his head. In King’s Landing, Ned has figured out why the Hand was killed: he had discovered that Joffrey was not really Robert’s child but was actually the product of Cersei’s sexual relationship with her brother, Jaime. Robert doesn’t know the truth. Robert is mortally wounded in a hunt, and before he dies, he names Ned the Protector of the Realm, essentially an interim king, until Joffrey comes of age. Ned does not tell Robert that he knows Joffrey is not the true heir, since he is the son of Cersei and Jaime. Ned asks Littlefinger’s help to install the true heir, Robert’s brother Stannis, as the king, and Littlefinger agrees. But when Ned confronts the Lannisters, saying that Joffrey is not the true heir and expecting Littlefinger’s support, Littlefinger betrays him, and Cersei imprisons Ned for treason. Meanwhile, north of the Wall, Jon and other men have discovered two strange dead bodies. They bring the bodies back for examination, and late at night, one of the bodies comes to life and tries to kill Jon’s commander. Jon and his direwolf fight off the undead body, and Jon kills the creature with fire.\n",
    "After Ned’s capture, Arya escapes the castle in King’s Landing and Cersei holds Sansa hostage (she says she is holding Sansa for her own protection). Tywin Lannister, father to Tyrion, Cersei, and Jaime, wages war with Catelyn and her son, Robb Stark. Shrewdly outmaneuvering Tywin, Robb manages to defeat a portion of the Lannister army and capture Jaime. In King’s Landing, Joffrey, who is considered Robert’s heir, is crowned King. In the hopes that he can prevent his daughters being harmed, Ned confesses publicly to treason, and Joffrey has him executed while Sansa watches. Arya is in the crowd, though nobody knows it.\n",
    "\"\"\""
   ]
  },
  {
   "cell_type": "markdown",
   "metadata": {
    "id": "Gw1VDoqmVAs7"
   },
   "source": [
    "## Printing the Generated Response and feeding it in Langsmith's Web UI"
   ]
  },
  {
   "cell_type": "code",
   "execution_count": 7,
   "metadata": {
    "colab": {
     "base_uri": "https://localhost:8080/"
    },
    "id": "DeBVPN0bNVDf",
    "outputId": "a7eb27c7-69a8-4f98-8b9a-16ed6e07a05a"
   },
   "outputs": [
    {
     "name": "stdout",
     "output_type": "stream",
     "text": [
      "\"A Game of Thrones\" is the first book in the \"A Song of Ice and Fire\" series by George R.R. Martin. It is set in the fictional continent of Westeros and follows the political intrigue and power struggles among noble families as they vie for control of the Iron Throne. The story begins with King Robert Baratheon visiting Winterfell to ask Eddard \"Ned\" Stark to become the Hand of the King after the previous Hand's mysterious death. \n",
      "\n",
      "As the plot unfolds, various characters—including the Stark family, the Lannisters, and Daenerys Targaryen—are introduced, each with their own ambitions and secrets. The narrative delves into themes of loyalty, betrayal, and the harsh realities of power, with significant events including Ned's investigation into the circumstances surrounding the former Hand's death, the revelation of royal lineage, and the rise of Daenerys as she seeks to reclaim her family's throne. The story is marked by unexpected twists, character deaths, and the looming threat of supernatural forces beyond the Wall in the North.\n",
      "\n",
      "\n",
      "The main characters in *A Game of Thrones* include:\n",
      "\n",
      "1. **Eddard \"Ned\" Stark** - The honorable lord of Winterfell who becomes the Hand of the King.\n",
      "2. **Catelyn Stark** - Ned's wife, who is determined to protect her family and uncover the truth behind the death of Jon Arryn.\n",
      "3. **Robb Stark** - The eldest son of Ned and Catelyn, who eventually leads the Stark forces in the conflict.\n",
      "4. **Sansa Stark** - The eldest daughter of Ned and Catelyn, who becomes infatuated with Prince Joffrey.\n",
      "5. **Arya Stark** - Ned and Catelyn's adventurous younger daughter, skilled in swordfighting.\n",
      "6. **Bran Stark** - Ned and Catelyn's second son, who becomes paralyzed after a fall.\n",
      "7. **Jon Snow** - Ned's illegitimate son, who joins the Night's Watch to defend the Wall.\n",
      "8. **Robert Baratheon** - The king of Westeros and an old friend of Ned Stark, who visits Winterfell to ask for Ned's help.\n",
      "9. **Cersei Lannister** - The queen and wife of Robert Baratheon, with a secretive and manipulative side.\n",
      "10. **Jaime Lannister** - Cersei's twin brother, known for his skills as a knight and his controversial actions.\n",
      "11. **Tyrion Lannister** - Cersei and Jaime's younger brother, a sharp-witted dwarf who often finds himself at odds with his family.\n",
      "12. **Daenerys Targaryen** - The exiled princess of the overthrown Targaryen dynasty, who seeks to reclaim the Iron Throne.\n",
      "13. **Khal Drogo** - A powerful warlord of the Dothraki with whom Daenerys is married.\n",
      "14. **Joffrey Baratheon** - The crown prince, who is cruel and entitled, considered to be the son of Robert Baratheon.\n",
      "\n",
      "These characters are central to the unfolding political intrigue and conflict in the story.\n",
      "\n",
      "\n",
      "In \"Game of Thrones,\" several key characters die throughout the course of the story. Notably:\n",
      "\n",
      "1. **Jon Arryn** - The previous Hand of the King, whose suspicious death sets off the events of the story.\n",
      "2. **Bran Stark** - Initially thought to be dead after being pushed from a window, he survives but is in a comatose state for a time.\n",
      "3. **Viserys Targaryen** - Daenerys's brother, who is killed by Khal Drogo.\n",
      "4. **King Robert Baratheon** - Mortally wounded during a hunt and dies shortly after naming Ned Stark as Protector of the Realm.\n",
      "5. **Ned Stark** - Executed on the orders of King Joffrey after confessing to treason.\n",
      "6. **Others** - Numerous characters die throughout the series, including members of various houses, soldiers in battles, and significant figures in the ongoing political intrigue.\n",
      "\n",
      "These deaths contribute significantly to the plot and character development throughout \"Game of Thrones.\"\n",
      "\n",
      "\n"
     ]
    }
   ],
   "source": [
    "for q in question:\n",
    "  print(chain.invoke({\"question\":q,\"context\":context}))\n",
    "  print(\"\\n\")"
   ]
  },
  {
   "cell_type": "markdown",
   "metadata": {
    "id": "YVUWRnu5VGNh"
   },
   "source": [
    "## Creating Evaluation Dataset in LangSmith"
   ]
  },
  {
   "cell_type": "code",
   "execution_count": 8,
   "metadata": {
    "id": "GBp8lzDvTLzB"
   },
   "outputs": [],
   "source": [
    "correct_answers = [\n",
    "    \"A Game of Thrones is the first novel in A Song of Ice and Fire, a series of fantasy novels by American author George R. R. Martin.\",\n",
    "    \"Here are the main character names mentioned as per the context - Ned Stark, Robert Baratheon, Jon Arryn,  \\\n",
    "    Cersei Lannister, Jaime Lannister, Bran Stark, Catelyn Stark, Jon Snow, Tyrion Lannister, Daenerys Targaryen, \\\n",
    "    Viserys Targaryen, Khal Drogo, Ser Jorah Mormont, Joffrey Baratheon, Sansa Stark, Arya Stark, Petyr Baelish, \\\n",
    "    Lysa Arryn, Stannis Baratheon, Tywin Lannister, Robb Stark\",\n",
    "    \"Based on the context, these characters die - Jon Arryn, Viserys Targaryen, Robert Baratheon, Ned Stark\",\n",
    "]\n",
    "\n",
    "client = Client()\n",
    "\n",
    "inputs = [\n",
    "    (question[0], correct_answers[0]),\n",
    "    (question[1], correct_answers[1]),\n",
    "    (question[2], correct_answers[2])\n",
    "]"
   ]
  },
  {
   "cell_type": "code",
   "execution_count": 9,
   "metadata": {
    "id": "N-aVsU-TU4RO"
   },
   "outputs": [],
   "source": [
    "dataset_name = \"LS_EVAL\"\n",
    "\n",
    "dataset = client.create_dataset(\n",
    "    dataset_name=dataset_name, description=\"Questions and answers for evaluating\",\n",
    ")\n",
    "\n",
    "for input_prompt, output_answer in inputs:\n",
    "    client.create_example(\n",
    "        inputs={\"question\": input_prompt},\n",
    "        outputs={\"answer\": output_answer},\n",
    "        dataset_id=dataset.id,\n",
    "    )"
   ]
  }
 ],
 "metadata": {
  "colab": {
   "provenance": []
  },
  "kernelspec": {
   "display_name": "Python 3",
   "name": "python3"
  },
  "language_info": {
   "name": "python"
  }
 },
 "nbformat": 4,
 "nbformat_minor": 0
}
