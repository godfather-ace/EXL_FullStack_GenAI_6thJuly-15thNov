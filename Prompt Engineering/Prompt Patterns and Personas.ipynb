{
 "cells": [
  {
   "cell_type": "markdown",
   "metadata": {},
   "source": [
    "## Importing Libraries and Loading API Key"
   ]
  },
  {
   "cell_type": "code",
   "execution_count": 1,
   "metadata": {},
   "outputs": [],
   "source": [
    "%%capture\n",
    "# update or install the necessary libraries\n",
    "!pip install openai==0.28 python-dotenv"
   ]
  },
  {
   "cell_type": "code",
   "execution_count": 2,
   "metadata": {},
   "outputs": [],
   "source": [
    "import openai\n",
    "import os\n",
    "from dotenv import load_dotenv, find_dotenv\n",
    "\n",
    "_ = load_dotenv(find_dotenv())\n",
    "openai.api_key  = os.getenv('OPENAI_API_KEY')"
   ]
  },
  {
   "cell_type": "code",
   "execution_count": 3,
   "metadata": {},
   "outputs": [],
   "source": [
    "def get_completion(prompt, model=\"gpt-3.5-turbo\"):\n",
    "    messages = [{\"role\": \"user\", \"content\": prompt}]\n",
    "    response = openai.ChatCompletion.create(\n",
    "        model=model,\n",
    "        messages=messages,\n",
    "        temperature=0, # this is the degree of randomness of the model's output\n",
    "    )\n",
    "    return response.choices[0].message[\"content\"]"
   ]
  },
  {
   "cell_type": "markdown",
   "metadata": {},
   "source": [
    "## Output Customization\n",
    "### Persona Pattern"
   ]
  },
  {
   "cell_type": "code",
   "execution_count": 4,
   "metadata": {},
   "outputs": [
    {
     "name": "stdout",
     "output_type": "stream",
     "text": [
      "It was a foggy evening in London when Mrs. Hudson burst into my office, clearly distressed. She informed me that her MacBook had been stolen from her apartment while she was out running errands. I immediately sprang into action, determined to solve this mystery.\n",
      "\n",
      "I began by examining the scene of the crime. There were no signs of forced entry, suggesting that the thief may have had a key or knew the security code to gain access to the apartment. I questioned Mrs. Hudson about anyone who may have had access to her apartment, but she insisted that only a few trusted friends and family members knew the code.\n",
      "\n",
      "Next, I turned my attention to the neighbors. One of them mentioned seeing a suspicious-looking individual lurking around the building earlier that day. I asked for a description and learned that the person was wearing a dark hoodie and sunglasses, making it difficult to identify them.\n",
      "\n",
      "I decided to visit the local pawn shops and electronics stores to see if anyone had tried to sell a MacBook matching the description of Mrs. Hudson's. After hours of searching, I finally came across a shop owner who claimed to have purchased a MacBook from a man fitting the description of the suspicious individual.\n",
      "\n",
      "With this new lead, I tracked down the man and confronted him. He initially denied any involvement in the theft, but after some intense questioning, he finally confessed to stealing the MacBook. He had been desperate for money and saw an opportunity to make a quick buck.\n",
      "\n",
      "I recovered the stolen MacBook and returned it to Mrs. Hudson, who was overjoyed to have her precious device back. The case was closed, thanks to my keen observation skills and deductive reasoning. Another mystery solved by Sherlock Holmes.\n"
     ]
    }
   ],
   "source": [
    "prompt = f\"\"\"\n",
    "Act as Sherlock Holmes. Solve a mystery involving a stolen MacBook.\n",
    "\"\"\"\n",
    "response = get_completion(prompt)\n",
    "print(response)"
   ]
  },
  {
   "cell_type": "markdown",
   "metadata": {},
   "source": [
    "### Audience Persona Pattern"
   ]
  },
  {
   "cell_type": "code",
   "execution_count": 5,
   "metadata": {},
   "outputs": [
    {
     "name": "stdout",
     "output_type": "stream",
     "text": [
      "Eating vegetables is very important for your health and well-being, even though you may not always enjoy the taste. Vegetables are packed with essential vitamins, minerals, and nutrients that your body needs to grow, develop, and stay healthy. They can help you have strong bones, healthy skin, good eyesight, and a strong immune system to fight off sickness.\n",
      "\n",
      "Vegetables also provide fiber, which helps your digestive system work properly and can prevent constipation. They are low in calories and fat, making them a great choice for maintaining a healthy weight. Eating a variety of vegetables can also help reduce your risk of developing chronic diseases like heart disease, diabetes, and certain types of cancer.\n",
      "\n",
      "Even if you don't love the taste of vegetables right now, it's important to keep trying different kinds and finding ways to make them more enjoyable. You can try cooking them in different ways, adding them to dishes you already like, or even blending them into smoothies. Remember, vegetables are an important part of a balanced diet, and by eating them regularly, you are taking care of your body and giving it the nutrients it needs to thrive.\n"
     ]
    }
   ],
   "source": [
    "prompt = f\"\"\"\n",
    "Explain the importance of eating vegetables to me. Assume that I am a skeptical child.\n",
    "\"\"\"\n",
    "response = get_completion(prompt)\n",
    "print(response)"
   ]
  },
  {
   "cell_type": "markdown",
   "metadata": {},
   "source": [
    "### Output Automator Pattern"
   ]
  },
  {
   "cell_type": "code",
   "execution_count": 6,
   "metadata": {},
   "outputs": [
    {
     "name": "stdout",
     "output_type": "stream",
     "text": [
      "Here is a sample Salesforce script that can be used to update or add contacts to your CRM:\n",
      "\n",
      "```apex\n",
      "List<Contact> contactsToUpdate = new List<Contact>();\n",
      "\n",
      "// Add or update contacts from networking event list\n",
      "contactsToUpdate.add(new Contact(FirstName = 'John', LastName = 'Doe', Company = 'ABC Company', Title = 'CEO'));\n",
      "contactsToUpdate.add(new Contact(FirstName = 'Jane', LastName = 'Smith', Company = 'XYZ Corporation', Title = 'CFO'));\n",
      "\n",
      "// Check if contact already exists in CRM and update if necessary\n",
      "List<Contact> existingContacts = [SELECT Id, FirstName, LastName, Company, Title FROM Contact WHERE FirstName IN ('John', 'Jane') AND LastName IN ('Doe', 'Smith')];\n",
      "Map<String, Contact> existingContactsMap = new Map<String, Contact>();\n",
      "for(Contact c : existingContacts) {\n",
      "    existingContactsMap.put(c.FirstName + ' ' + c.LastName, c);\n",
      "}\n",
      "\n",
      "for(Contact newContact : contactsToUpdate) {\n",
      "    String contactKey = newContact.FirstName + ' ' + newContact.LastName;\n",
      "    if(existingContactsMap.containsKey(contactKey)) {\n",
      "        Contact existingContact = existingContactsMap.get(contactKey);\n",
      "        existingContact.Company = newContact.Company;\n",
      "        existingContact.Title = newContact.Title;\n",
      "    } else {\n",
      "        existingContactsMap.put(contactKey, newContact);\n",
      "    }\n",
      "}\n",
      "\n",
      "// Update or insert contacts in CRM\n",
      "upsert existingContactsMap.values() FirstName LastName;\n",
      "\n",
      "System.debug('Contacts updated/added successfully');\n",
      "```\n",
      "\n",
      "Please note that this is a basic script and may need to be customized based on your specific Salesforce setup and requirements. Additionally, make sure to test the script in a sandbox environment before running it in your production CRM.\n"
     ]
    }
   ],
   "source": [
    "prompt = f\"\"\"\n",
    "Whenever you generate a list of contacts from networking events I've attended,\n",
    "create a Salesforce script that will update or add these contacts to my CRM.\n",
    "\n",
    "Each entry should include the contact's name, company, and role.\n",
    "The artifact should be a script compatible with Salesforce.\"\"\"\n",
    "response = get_completion(prompt)\n",
    "print(response)"
   ]
  },
  {
   "cell_type": "markdown",
   "metadata": {},
   "source": [
    "### Visualization Generator Pattern"
   ]
  },
  {
   "cell_type": "code",
   "execution_count": 6,
   "metadata": {},
   "outputs": [
    {
     "name": "stdout",
     "output_type": "stream",
     "text": [
      "Here are the steps to create a histogram in Tableau for age distributions:\n",
      "\n",
      "1. Connect to your dataset: Open Tableau and connect to the dataset that contains the age distribution data.\n",
      "\n",
      "2. Drag and drop the age variable: In the Data pane, locate the variable that represents age and drag it to the Columns shelf.\n",
      "\n",
      "3. Create bins for age groups: Right-click on the age variable in the Columns shelf and select \"Create\" > \"Bins.\" Set the size of the bins to group ages into meaningful categories.\n",
      "\n",
      "4. Drag the age bins to the Rows shelf: Drag the newly created age bins from the Data pane to the Rows shelf.\n",
      "\n",
      "5. Change the mark type to Histogram: In the Marks card, change the mark type from Automatic to Histogram.\n",
      "\n",
      "6. Adjust the histogram settings: You can customize the appearance of the histogram by adjusting settings such as the number of bins, colors, and axis labels.\n",
      "\n",
      "7. Format the visualization: Format the histogram by adding titles, adjusting axis labels, and making any other necessary formatting changes.\n",
      "\n",
      "8. Save and share the visualization: Once you are satisfied with the histogram, save the visualization and share it with others as needed.\n",
      "\n",
      "By following these steps, you can easily create a histogram in Tableau to visualize the age distribution in your dataset.\n"
     ]
    }
   ],
   "source": [
    "prompt = f\"\"\"\n",
    "Whenever we are discussing a data distribution or statistical information,\n",
    "generate Tableau steps to create a corresponding plot.\n",
    "\n",
    "For instance, if we're talking about a dataset with age distributions,\n",
    "generate Tableau steps to read the data and\n",
    "create a histogram representing this data distribution.\n",
    "\"\"\"\n",
    "response = get_completion(prompt)\n",
    "print(response)"
   ]
  },
  {
   "cell_type": "markdown",
   "metadata": {},
   "source": [
    "### Recipe Pattern"
   ]
  },
  {
   "cell_type": "code",
   "execution_count": 9,
   "metadata": {},
   "outputs": [
    {
     "name": "stdout",
     "output_type": "stream",
     "text": [
      "Day 1:\n",
      "- Start in San Francisco and drive south on Highway 1 towards Santa Cruz\n",
      "- Stop in Santa Cruz for lunch and explore the boardwalk\n",
      "- Continue driving south on Highway 1 towards Monterey\n",
      "- Visit the Monterey Bay Aquarium and Cannery Row\n",
      "- Drive through Pacific Grove and Asilomar State Beach\n",
      "- Spend the night in Monterey or Pacific Grove\n",
      "\n",
      "Day 2:\n",
      "- Start the day with breakfast in Monterey\n",
      "- Drive south on Highway 1 towards Big Sur\n",
      "- Stop at Bixby Creek Bridge for photos\n",
      "- Visit Point Lobos State Natural Reserve for hiking and wildlife viewing\n",
      "- Continue driving through Big Sur and enjoy the scenic views\n",
      "- Stop for lunch at Nepenthe or another restaurant along the coast\n",
      "- Spend the night in Big Sur or Cambria\n",
      "\n",
      "Day 3:\n",
      "- Start the day with breakfast in Big Sur or Cambria\n",
      "- Drive south on Highway 1 towards San Simeon\n",
      "- Visit Hearst Castle for a tour of the historic estate\n",
      "- Continue driving south towards Morro Bay\n",
      "- Stop in Morro Bay for lunch and visit Morro Rock\n",
      "- Drive through San Luis Obispo and Pismo Beach\n",
      "- Spend the night in Pismo Beach or nearby\n",
      "\n",
      "Day 4:\n",
      "- Start the day with breakfast in Pismo Beach\n",
      "- Drive south on Highway 1 towards Santa Barbara\n",
      "- Stop in Solvang for a taste of Danish culture and pastries\n",
      "- Continue driving towards Santa Barbara\n",
      "- Visit the Santa Barbara Mission and explore downtown\n",
      "- Spend the night in Santa Barbara\n",
      "\n",
      "Day 5:\n",
      "- Start the day with breakfast in Santa Barbara\n",
      "- Drive south on Highway 101 towards Ventura\n",
      "- Visit the Ventura Pier and downtown area\n",
      "- Continue driving towards Malibu\n",
      "- Stop at Zuma Beach or Point Dume for a beach break\n",
      "- Drive through Malibu and towards Los Angeles\n",
      "- Spend the night in Los Angeles or continue driving towards San Diego\n",
      "\n",
      "Day 6:\n",
      "- Start the day with breakfast in Los Angeles or continue driving towards San Diego\n",
      "- Drive south on Highway 5 towards San Diego\n",
      "- Visit Balboa Park, the San Diego Zoo, and Old Town San Diego\n",
      "- Explore the Gaslamp Quarter and waterfront area\n",
      "- Spend the night in San Diego\n",
      "\n",
      "Enjoy your road trip from San Francisco to San Diego through Big Sur and the California coast!\n"
     ]
    }
   ],
   "source": [
    "prompt = f\"\"\"\n",
    "I would like to drive to San Diego from San Francisco. \n",
    "I know that I want to go through Big Sur and stay close to the coast as much as possible.\n",
    "\n",
    "Provide a complete itinerary.\n",
    "\"\"\"\n",
    "response = get_completion(prompt)\n",
    "print(response)"
   ]
  },
  {
   "cell_type": "markdown",
   "metadata": {},
   "source": [
    "## Input Semantics\n",
    "### Meta Language Creation"
   ]
  },
  {
   "cell_type": "code",
   "execution_count": 10,
   "metadata": {},
   "outputs": [
    {
     "name": "stdout",
     "output_type": "stream",
     "text": [
      "TL;DR means \"too long; didn't read\" and is used to summarize a lengthy response.\n"
     ]
    }
   ],
   "source": [
    "prompt = f\"\"\"\n",
    "When I say \"tl;dr\", I mean \"your response was too long, make it shorter\".\n",
    "\"\"\"\n",
    "response = get_completion(prompt)\n",
    "print(response)"
   ]
  },
  {
   "cell_type": "markdown",
   "metadata": {},
   "source": [
    "### Menu Action Patterns"
   ]
  },
  {
   "cell_type": "code",
   "execution_count": 11,
   "metadata": {},
   "outputs": [
    {
     "name": "stdout",
     "output_type": "stream",
     "text": [
      "Understood! Just let me know whenever you need a new feature summary, a patch, or missing tests added.\n"
     ]
    }
   ],
   "source": [
    "prompt = f\"\"\"\n",
    "Whenever I type: \"feat\", you will generate a new feature summary.\n",
    "Whenever I type: \"fix\", you will create a patch.\n",
    "Whenever I type: \"test\", you will add missing tests.\n",
    "\"\"\"\n",
    "response = get_completion(prompt)\n",
    "print(response)"
   ]
  },
  {
   "cell_type": "code",
   "execution_count": 12,
   "metadata": {},
   "outputs": [
    {
     "name": "stdout",
     "output_type": "stream",
     "text": [
      "Nvidia is a leading technology company known for its graphics processing units (GPUs) and artificial intelligence capabilities. Working with Nvidia often means leveraging their cutting-edge technology to enhance performance and capabilities in various applications and industries.\n"
     ]
    }
   ],
   "source": [
    "prompt = f\"\"\"\n",
    "feat Nvidia\n",
    "\"\"\"\n",
    "response = get_completion(prompt)\n",
    "print(response)"
   ]
  },
  {
   "cell_type": "code",
   "execution_count": 13,
   "metadata": {},
   "outputs": [
    {
     "name": "stdout",
     "output_type": "stream",
     "text": [
      "An Armstrong number is a number that is equal to the sum of its own digits each raised to the power of the number of digits in the number. For example, 153 is an Armstrong number because 1^3 + 5^3 + 3^3 = 153.\n",
      "\n",
      "If you would like me to test if a specific number is an Armstrong number, please provide the number you would like me to test.\n"
     ]
    }
   ],
   "source": [
    "prompt = f\"\"\"\n",
    "test armstrong\n",
    "\"\"\"\n",
    "response = get_completion(prompt)\n",
    "print(response)"
   ]
  },
  {
   "cell_type": "markdown",
   "metadata": {},
   "source": [
    "## Prompt Improvement\n",
    "### Question Refinement"
   ]
  },
  {
   "cell_type": "code",
   "execution_count": 15,
   "metadata": {},
   "outputs": [
    {
     "name": "stdout",
     "output_type": "stream",
     "text": [
      "What is the best programming language to learn for web development?\n",
      "\n",
      "Would you like to consider learning this language for your web development projects instead?\n"
     ]
    }
   ],
   "source": [
    "prompt = f\"\"\"\n",
    "Whenever I ask a question about the best programming language to learn,\n",
    "suggest a better version of the question that considers the context like domain of interest.\n",
    "\n",
    "Ask me if I would like to use it instead.\n",
    "\"\"\"\n",
    "response = get_completion(prompt)\n",
    "print(response)"
   ]
  },
  {
   "cell_type": "markdown",
   "metadata": {},
   "source": [
    "### Alternative Approaches Pattern"
   ]
  },
  {
   "cell_type": "code",
   "execution_count": 16,
   "metadata": {},
   "outputs": [
    {
     "name": "stdout",
     "output_type": "stream",
     "text": [
      "Task: Organizing a team meeting\n",
      "\n",
      "Original way: Sending out a mass email with meeting details and agenda\n",
      "\n",
      "Alternate approaches:\n",
      "1. Setting up a shared calendar invite: Pros - Ensures everyone has the meeting details easily accessible, allows for RSVPs, and can be easily updated. Cons - Some team members may not regularly check their calendars.\n",
      "2. Creating a group chat on a messaging platform: Pros - Allows for quick communication and reminders, fosters real-time discussion, and can be more engaging. Cons - May lead to distractions and off-topic conversations.\n",
      "3. Holding a brief in-person meeting to announce the details: Pros - Provides a personal touch, allows for immediate feedback and questions, and ensures everyone is on the same page. Cons - Requires everyone to be present at the same time and place.\n",
      "\n",
      "Which approach would you like to use?\n"
     ]
    }
   ],
   "source": [
    "prompt = f\"\"\"\n",
    "For every task I give you, list the best alternate approaches with their pros and cons.\n",
    "\n",
    "Include the original way that I asked and prompt me on which approach I would like to use.\n",
    "\"\"\"\n",
    "response = get_completion(prompt)\n",
    "print(response)"
   ]
  },
  {
   "cell_type": "markdown",
   "metadata": {},
   "source": [
    "## Interaction\n",
    "### Ask for Input"
   ]
  },
  {
   "cell_type": "code",
   "execution_count": 17,
   "metadata": {},
   "outputs": [
    {
     "name": "stdout",
     "output_type": "stream",
     "text": [
      "Topic 1: Favorite type of music\n",
      "1. Pop music\n",
      "2. Rock music\n",
      "\n",
      "Which option do you prefer?\n",
      "\n",
      "Topic 2: Favorite vacation destination\n",
      "1. Beach destination\n",
      "2. Mountain destination\n",
      "\n",
      "Which option do you prefer?\n",
      "\n",
      "Topic 3: Favorite type of food\n",
      "1. Italian cuisine\n",
      "2. Mexican cuisine\n",
      "\n",
      "Which option do you prefer?\n"
     ]
    }
   ],
   "source": [
    "prompt = f\"\"\"\n",
    "You will generate two bullet points for each topic I provide.\n",
    "\n",
    "For each bullet point you generate, ask me which option I prefer.\n",
    "\"\"\"\n",
    "response = get_completion(prompt)\n",
    "print(response)"
   ]
  },
  {
   "cell_type": "markdown",
   "metadata": {},
   "source": [
    "### Gameplay Pattern"
   ]
  },
  {
   "cell_type": "code",
   "execution_count": 18,
   "metadata": {},
   "outputs": [
    {
     "name": "stdout",
     "output_type": "stream",
     "text": [
      "Country: France\n",
      "\n",
      "Phrases:\n",
      "1. Bonjour, comment ça va?\n",
      "2. Où est la tour Eiffel?\n",
      "3. Je voudrais une baguette s'il vous plaît.\n",
      "\n",
      "Can you guess the language and the meanings of these phrases?\n"
     ]
    }
   ],
   "source": [
    "prompt = f\"\"\"\n",
    "We are going to play a language-learning game.\n",
    "\n",
    "The rules are:\n",
    "- I am a tourist visiting various countries.\n",
    "- Each time you will tell me three phrases in the local language.\n",
    "- I will try to guess the language and the meaning of the phrases.\n",
    "- For every correct guess, I get one point.\n",
    "\n",
    "Start with the first country.\n",
    "\"\"\"\n",
    "response = get_completion(prompt)\n",
    "print(response)"
   ]
  },
  {
   "cell_type": "markdown",
   "metadata": {},
   "source": [
    "## Context Control\n",
    "### Context Manager"
   ]
  },
  {
   "cell_type": "code",
   "execution_count": 19,
   "metadata": {},
   "outputs": [
    {
     "name": "stdout",
     "output_type": "stream",
     "text": [
      "Understood. I will focus on the main storyline of the novel.\n"
     ]
    }
   ],
   "source": [
    "prompt = f\"\"\"\n",
    "When discussing the plot of the novel, please consider only the main storyline. \n",
    "Ignore any subplots or minor characters.\n",
    "\"\"\"\n",
    "response = get_completion(prompt)\n",
    "print(response)"
   ]
  },
  {
   "cell_type": "markdown",
   "metadata": {},
   "source": [
    "### Semantic Filter Pattern"
   ]
  },
  {
   "cell_type": "code",
   "execution_count": 21,
   "metadata": {},
   "outputs": [
    {
     "name": "stdout",
     "output_type": "stream",
     "text": [
      "Anant Ambani Weight Gain Reason Revealed: Why Ambani Son Gained Back Weight After Losing 108kgs in 18 Mont\n",
      "\n",
      "20 hours ago\n",
      "Satata Karmakar\n",
      "\n",
      "Paytm, PPBL mutually agree to discontinue various inter-company agreements\n",
      "\n",
      "2 hours ago\n",
      "\n",
      "Meet Narayana Murthy’s son, left Rs 690000 crore Infosys, inspired by Sudha Murty, he is now working for…\n",
      "\n",
      "Yesterday\n",
      "Ayushmann Chawla\n",
      "\n",
      "The CEO of the just-privatized Air India describes how tough it was to turn around a 91-year-old airline: ‘The first 6 months was really triage’\n",
      "\n",
      "Yesterday\n",
      "Lionel Lim\n"
     ]
    }
   ],
   "source": [
    "prompt = f\"\"\"\n",
    "Filter this news feed to remove any mention of \"politics\".\n",
    "News Feed : \n",
    "Anant Ambani Weight Gain Reason Revealed: Why Ambani Son Gained Back Weight After Losing 108kgs in 18 Mont\n",
    "\n",
    "20 hours ago\n",
    "Satata Karmakar\n",
    "\n",
    "\n",
    "News Broadcasting Authority Orders Times Now Navbharat, News 18 India, Aaj Tak to Take Down 3 TV Shows\n",
    "\n",
    "11 hours ago\n",
    "\n",
    "\n",
    "Paytm, PPBL mutually agree to discontinue various inter-company agreements\n",
    "\n",
    "2 hours ago\n",
    "\n",
    "\n",
    "Meet Narayana Murthy’s son, left Rs 690000 crore Infosys, inspired by Sudha Murty, he is now working for…\n",
    "\n",
    "Yesterday\n",
    "Ayushmann Chawla\n",
    "\n",
    "Mamata Banerjee's latest ‘BJP’ warning: 'LPG cylinder price to be ₹2000 if...'\n",
    "\n",
    "5 hours ago\n",
    "Vaibhav Tiwari\n",
    "\n",
    "\n",
    "The CEO of the just-privatized Air India describes how tough it was to turn around a 91-year-old airline: ‘The first 6 months was really triage’\n",
    "\n",
    "Yesterday\n",
    "Lionel Lim\n",
    "\"\"\"\n",
    "response = get_completion(prompt)\n",
    "print(response)"
   ]
  },
  {
   "cell_type": "markdown",
   "metadata": {},
   "source": [
    "## Error Identification\n",
    "### Fact Check List"
   ]
  },
  {
   "cell_type": "code",
   "execution_count": 22,
   "metadata": {},
   "outputs": [
    {
     "name": "stdout",
     "output_type": "stream",
     "text": [
      "Key facts:\n",
      "1. The article discusses the impact of a recent increase in gas prices on consumers.\n",
      "2. Gas prices have risen significantly in the past few weeks due to various factors.\n",
      "3. The rise in gas prices is expected to affect consumers' spending habits and overall economic outlook.\n",
      "4. Experts predict that the increase in gas prices may lead to inflation and slower economic growth.\n",
      "5. The Biden administration is considering various measures to address the rising gas prices and their impact on consumers.\n",
      "\n",
      "By including these key facts, readers can better understand the reasons behind the rise in gas prices and the potential consequences for consumers and the economy.\n"
     ]
    }
   ],
   "source": [
    "prompt = f\"\"\"\n",
    "After you generate a news article summary, compile a list of the key facts. \n",
    "Insert this fact list at the end of the summary.\n",
    "Include the main points that would affect the overall understanding of the news story.\n",
    "\"\"\"\n",
    "response = get_completion(prompt)\n",
    "print(response)"
   ]
  },
  {
   "cell_type": "code",
   "execution_count": null,
   "metadata": {},
   "outputs": [],
   "source": []
  }
 ],
 "metadata": {
  "kernelspec": {
   "display_name": "dev",
   "language": "python",
   "name": "python3"
  },
  "language_info": {
   "codemirror_mode": {
    "name": "ipython",
    "version": 3
   },
   "file_extension": ".py",
   "mimetype": "text/x-python",
   "name": "python",
   "nbconvert_exporter": "python",
   "pygments_lexer": "ipython3",
   "version": "3.12.4"
  }
 },
 "nbformat": 4,
 "nbformat_minor": 2
}
