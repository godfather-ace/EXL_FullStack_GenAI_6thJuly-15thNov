{
 "cells": [
  {
   "cell_type": "markdown",
   "metadata": {},
   "source": [
    "##### Installing libraries"
   ]
  },
  {
   "cell_type": "code",
   "execution_count": null,
   "metadata": {},
   "outputs": [],
   "source": [
    "%pip install sentence-transformers torch"
   ]
  },
  {
   "cell_type": "markdown",
   "metadata": {},
   "source": [
    "##### Importing libraries"
   ]
  },
  {
   "cell_type": "code",
   "execution_count": 3,
   "metadata": {},
   "outputs": [
    {
     "name": "stderr",
     "output_type": "stream",
     "text": [
      "/Users/sachintripathi/Documents/Py_files/dev/lib/python3.12/site-packages/sentence_transformers/cross_encoder/CrossEncoder.py:13: TqdmExperimentalWarning: Using `tqdm.autonotebook.tqdm` in notebook mode. Use `tqdm.tqdm` instead to force console mode (e.g. in jupyter console)\n",
      "  from tqdm.autonotebook import tqdm, trange\n"
     ]
    }
   ],
   "source": [
    "import torch\n",
    "from sentence_transformers import SentenceTransformer"
   ]
  },
  {
   "cell_type": "markdown",
   "metadata": {},
   "source": [
    "##### Using HF embedding model "
   ]
  },
  {
   "cell_type": "code",
   "execution_count": 2,
   "metadata": {},
   "outputs": [],
   "source": [
    "embedder = SentenceTransformer(\"all-MiniLM-L6-v2\")"
   ]
  },
  {
   "cell_type": "markdown",
   "metadata": {},
   "source": [
    "##### Defining a corpus of example statements"
   ]
  },
  {
   "cell_type": "code",
   "execution_count": 8,
   "metadata": {},
   "outputs": [],
   "source": [
    "corpus = [\n",
    "    \"A man is eating food.\", \n",
    "    \"A man is eating pasta\", \n",
    "    \"The girl is carrying a baby.\", \n",
    "    \"A man is riding a horse.\",\n",
    "    \"A woman is playing violin.\", \n",
    "    \"Two men pushed carts through the woods.\", \n",
    "    \"A man is riding a white horse on an enclosed ground.\",\n",
    "    \"A monkey is playing drums.\", \n",
    "    \"A cheetah is running behind its prey.\"\n",
    "]"
   ]
  },
  {
   "cell_type": "markdown",
   "metadata": {},
   "source": [
    "##### Use \"convert_to_tensor = True\" to keep the tensors on GPU (if present)"
   ]
  },
  {
   "cell_type": "code",
   "execution_count": 9,
   "metadata": {},
   "outputs": [],
   "source": [
    "corpus_embeddings = embedder.encode(corpus, convert_to_tensor = True)"
   ]
  },
  {
   "cell_type": "code",
   "execution_count": 10,
   "metadata": {},
   "outputs": [],
   "source": [
    "queries = [\n",
    "    \"A man is eating pasta.\", \n",
    "    \"Someone in a gorilla costume is playing a set of drums.\", \n",
    "    \"A cheetah chases prey on across a field.\"\n",
    "]"
   ]
  },
  {
   "cell_type": "markdown",
   "metadata": {},
   "source": [
    "##### finding the closest 5 sentences of the corpus for each query sentence based on cosine similarity"
   ]
  },
  {
   "cell_type": "code",
   "execution_count": 11,
   "metadata": {},
   "outputs": [
    {
     "name": "stdout",
     "output_type": "stream",
     "text": [
      "\n",
      "Query: A man is eating pasta.\n",
      "Top 5 similar sentences in corpus:\n",
      "A man is eating pasta (Score:  0.9979)\n",
      "A man is eating food. (Score:  0.7035)\n",
      "A man is riding a horse. (Score:  0.1889)\n",
      "A man is riding a white horse on an enclosed ground. (Score:  0.1047)\n",
      "A cheetah is running behind its prey. (Score:  0.0980)\n",
      "\n",
      "Query: Someone in a gorilla costume is playing a set of drums.\n",
      "Top 5 similar sentences in corpus:\n",
      "A monkey is playing drums. (Score:  0.6433)\n",
      "A woman is playing violin. (Score:  0.2564)\n",
      "A man is riding a horse. (Score:  0.1389)\n",
      "A man is riding a white horse on an enclosed ground. (Score:  0.1191)\n",
      "A cheetah is running behind its prey. (Score:  0.1080)\n",
      "\n",
      "Query: A cheetah chases prey on across a field.\n",
      "Top 5 similar sentences in corpus:\n",
      "A cheetah is running behind its prey. (Score:  0.8253)\n",
      "A man is eating food. (Score:  0.1399)\n",
      "A monkey is playing drums. (Score:  0.1292)\n",
      "A man is riding a white horse on an enclosed ground. (Score:  0.1097)\n",
      "A man is riding a horse. (Score:  0.0650)\n"
     ]
    }
   ],
   "source": [
    "top_k = min(5, len(corpus))\n",
    "for query in queries: \n",
    "    query_embedding = embedder.encode(query, convert_to_tensor = True)\n",
    "    similarity_scores = embedder.similarity(query_embedding, corpus_embeddings)[0]\n",
    "    scores, indices = torch.topk(similarity_scores, k = top_k)\n",
    "    print(\"\\nQuery:\", query)\n",
    "    print(\"Top 5 similar sentences in corpus:\")\n",
    "    for score, idx in zip(scores, indices):\n",
    "        print(corpus[idx], f\"(Score: {score: .4f})\")"
   ]
  },
  {
   "cell_type": "markdown",
   "metadata": {},
   "source": [
    "##### Another Example"
   ]
  },
  {
   "cell_type": "code",
   "execution_count": 1,
   "metadata": {},
   "outputs": [],
   "source": [
    "sentences1 = [\n",
    "    \"The dog barked loudly.\", \n",
    "    \"She smiled brightly.\",\n",
    "    \"Rain poured down.\"\n",
    "]"
   ]
  },
  {
   "cell_type": "code",
   "execution_count": 2,
   "metadata": {},
   "outputs": [],
   "source": [
    "sentences2 = [\n",
    "    \"Birds chirped nearby.\",\n",
    "    \"The phone rang.\",\n",
    "    \"He laughed quietly.\"\n",
    "]"
   ]
  },
  {
   "cell_type": "code",
   "execution_count": 4,
   "metadata": {},
   "outputs": [],
   "source": [
    "embedder = SentenceTransformer(\"all-MiniLM-L6-v2\")\n",
    "embeddings1 = embedder.encode(sentences1)\n",
    "embeddings2 = embedder.encode(sentences2)"
   ]
  },
  {
   "cell_type": "code",
   "execution_count": 5,
   "metadata": {},
   "outputs": [
    {
     "data": {
      "text/plain": [
       "tensor([[0.2309, 0.1762, 0.3190],\n",
       "        [0.0642, 0.2115, 0.5462],\n",
       "        [0.1487, 0.2985, 0.1155]])"
      ]
     },
     "execution_count": 5,
     "metadata": {},
     "output_type": "execute_result"
    }
   ],
   "source": [
    "similarities = embedder.similarity(embeddings1, embeddings2)\n",
    "similarities"
   ]
  },
  {
   "cell_type": "code",
   "execution_count": 6,
   "metadata": {},
   "outputs": [
    {
     "name": "stdout",
     "output_type": "stream",
     "text": [
      "The dog barked loudly.\n",
      " - Birds chirped nearby.         : 0.2309\n",
      " - The phone rang.               : 0.1762\n",
      " - He laughed quietly.           : 0.3190\n",
      "She smiled brightly.\n",
      " - Birds chirped nearby.         : 0.0642\n",
      " - The phone rang.               : 0.2115\n",
      " - He laughed quietly.           : 0.5462\n",
      "Rain poured down.\n",
      " - Birds chirped nearby.         : 0.1487\n",
      " - The phone rang.               : 0.2985\n",
      " - He laughed quietly.           : 0.1155\n"
     ]
    }
   ],
   "source": [
    "for idx_i, sentence1 in enumerate(sentences1):\n",
    "    print(sentence1)\n",
    "    for idx_j, sentence2 in enumerate(sentences2):\n",
    "        print(f\" - {sentence2: <30}: {similarities[idx_i][idx_j]:.4f}\")"
   ]
  },
  {
   "cell_type": "code",
   "execution_count": null,
   "metadata": {},
   "outputs": [],
   "source": []
  },
  {
   "cell_type": "code",
   "execution_count": null,
   "metadata": {},
   "outputs": [],
   "source": []
  },
  {
   "cell_type": "code",
   "execution_count": null,
   "metadata": {},
   "outputs": [],
   "source": []
  }
 ],
 "metadata": {
  "kernelspec": {
   "display_name": "dev",
   "language": "python",
   "name": "python3"
  },
  "language_info": {
   "codemirror_mode": {
    "name": "ipython",
    "version": 3
   },
   "file_extension": ".py",
   "mimetype": "text/x-python",
   "name": "python",
   "nbconvert_exporter": "python",
   "pygments_lexer": "ipython3",
   "version": "3.12.4"
  }
 },
 "nbformat": 4,
 "nbformat_minor": 2
}
