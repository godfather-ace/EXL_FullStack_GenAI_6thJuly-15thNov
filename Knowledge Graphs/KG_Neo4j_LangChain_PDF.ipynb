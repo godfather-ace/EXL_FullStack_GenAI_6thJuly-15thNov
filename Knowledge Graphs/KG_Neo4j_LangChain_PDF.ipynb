{
 "cells": [
  {
   "cell_type": "code",
   "execution_count": null,
   "metadata": {},
   "outputs": [],
   "source": [
    "%pip install openai langchain langchain_openai langchain_experimental langchain-community neo4j unstructured"
   ]
  },
  {
   "cell_type": "code",
   "execution_count": 1,
   "metadata": {},
   "outputs": [],
   "source": [
    "from langchain_openai import ChatOpenAI\n",
    "from langchain_community.graphs import Neo4jGraph\n",
    "from langchain.text_splitter import CharacterTextSplitter\n",
    "from langchain_experimental.graph_transformers import LLMGraphTransformer \n",
    "from langchain_core.documents import Document\n",
    "from langchain_community.document_loaders import DirectoryLoader\n",
    "from dotenv import load_dotenv\n",
    "import os"
   ]
  },
  {
   "cell_type": "code",
   "execution_count": null,
   "metadata": {},
   "outputs": [],
   "source": [
    "graph = Neo4jGraph(\n",
    "    url = \"neo4j+s://********************\", \n",
    "    username = \"neo4j\", \n",
    "    password = \"********************\"\n",
    ")"
   ]
  },
  {
   "cell_type": "code",
   "execution_count": 3,
   "metadata": {},
   "outputs": [
    {
     "data": {
      "text/plain": [
       "True"
      ]
     },
     "execution_count": 3,
     "metadata": {},
     "output_type": "execute_result"
    }
   ],
   "source": [
    "load_dotenv()"
   ]
  },
  {
   "cell_type": "code",
   "execution_count": 4,
   "metadata": {},
   "outputs": [],
   "source": [
    "llm = ChatOpenAI(temperature = 0)\n",
    "llm_transf = LLMGraphTransformer(llm = llm)"
   ]
  },
  {
   "cell_type": "code",
   "execution_count": 5,
   "metadata": {},
   "outputs": [],
   "source": [
    "loader = DirectoryLoader(\"data\")\n",
    "text_splitter = CharacterTextSplitter.from_tiktoken_encoder(\n",
    "    chunk_size = 1000, chunk_overlap = 20\n",
    ")"
   ]
  },
  {
   "cell_type": "code",
   "execution_count": 6,
   "metadata": {},
   "outputs": [
    {
     "name": "stderr",
     "output_type": "stream",
     "text": [
      "/Users/sachintripathi/Documents/Py_files/dev/lib/python3.12/site-packages/pypdf/_crypt_providers/_cryptography.py:32: CryptographyDeprecationWarning: ARC4 has been moved to cryptography.hazmat.decrepit.ciphers.algorithms.ARC4 and will be removed from this module in 48.0.0.\n",
      "  from cryptography.hazmat.primitives.ciphers.algorithms import AES, ARC4\n"
     ]
    }
   ],
   "source": [
    "documents = text_splitter.split_documents(loader.load())\n",
    "for d in documents:\n",
    "    del d.metadata['source']"
   ]
  },
  {
   "cell_type": "code",
   "execution_count": 7,
   "metadata": {},
   "outputs": [
    {
     "name": "stdout",
     "output_type": "stream",
     "text": [
      "Nodes: [Node(id='Muhammed Mac Intyre', type='Customer', properties={}), Node(id='Barry French', type='Customer', properties={}), Node(id='Clay Rozendal', type='Customer', properties={}), Node(id='Carlos Soltero', type='Customer', properties={}), Node(id='Carl Jackson', type='Customer', properties={}), Node(id='Monica Federle', type='Customer', properties={}), Node(id='Dorothy Badders', type='Customer', properties={}), Node(id='Neola Schneider', type='Customer', properties={}), Node(id='Carlos Daly', type='Customer', properties={}), Node(id='Claudia Miner', type='Customer', properties={}), Node(id='Allen Rosenblatt', type='Customer', properties={}), Node(id='Sylvia Foulston', type='Customer', properties={}), Node(id='Jim Radford', type='Customer', properties={}), Node(id='Carl Ludwig', type='Customer', properties={}), Node(id='Don Miller', type='Customer', properties={}), Node(id='Annie Cyprus', type='Customer', properties={})]\n",
      "Relationships: [Relationship(source=Node(id='Muhammed Mac Intyre', type='Customer', properties={}), target=Node(id='3', type='Order_id', properties={}), type='ORDER_FINISHED', properties={}), Relationship(source=Node(id='Barry French', type='Customer', properties={}), target=Node(id='293', type='Order_id', properties={}), type='ORDER_FINISHED', properties={}), Relationship(source=Node(id='Clay Rozendal', type='Customer', properties={}), target=Node(id='483', type='Order_id', properties={}), type='ORDER_FINISHED', properties={}), Relationship(source=Node(id='Carlos Soltero', type='Customer', properties={}), target=Node(id='515', type='Order_id', properties={}), type='ORDER_FINISHED', properties={}), Relationship(source=Node(id='Carl Jackson', type='Customer', properties={}), target=Node(id='613', type='Order_id', properties={}), type='ORDER_FINISHED', properties={}), Relationship(source=Node(id='Monica Federle', type='Customer', properties={}), target=Node(id='643', type='Order_id', properties={}), type='ORDER_FINISHED', properties={}), Relationship(source=Node(id='Dorothy Badders', type='Customer', properties={}), target=Node(id='678', type='Order_id', properties={}), type='ORDER_RETURNED', properties={}), Relationship(source=Node(id='Neola Schneider', type='Customer', properties={}), target=Node(id='807', type='Order_id', properties={}), type='ORDER_FINISHED', properties={}), Relationship(source=Node(id='Carlos Daly', type='Customer', properties={}), target=Node(id='868', type='Order_id', properties={}), type='ORDER_FINISHED', properties={}), Relationship(source=Node(id='Claudia Miner', type='Customer', properties={}), target=Node(id='933', type='Order_id', properties={}), type='ORDER_FINISHED', properties={}), Relationship(source=Node(id='Neola Schneider', type='Customer', properties={}), target=Node(id='995', type='Order_id', properties={}), type='ORDER_FINISHED', properties={}), Relationship(source=Node(id='Allen Rosenblatt', type='Customer', properties={}), target=Node(id='998', type='Order_id', properties={}), type='ORDER_FINISHED', properties={}), Relationship(source=Node(id='Sylvia Foulston', type='Customer', properties={}), target=Node(id='1154', type='Order_id', properties={}), type='ORDER_FINISHED', properties={}), Relationship(source=Node(id='Jim Radford', type='Customer', properties={}), target=Node(id='1344', type='Order_id', properties={}), type='ORDER_FINISHED', properties={}), Relationship(source=Node(id='Carlos Soltero', type='Customer', properties={}), target=Node(id='1412', type='Order_id', properties={}), type='ORDER_FINISHED', properties={}), Relationship(source=Node(id='Carl Ludwig', type='Customer', properties={}), target=Node(id='1539', type='Order_id', properties={}), type='ORDER_FINISHED', properties={}), Relationship(source=Node(id='Don Miller', type='Customer', properties={}), target=Node(id='1540', type='Order_id', properties={}), type='ORDER_FINISHED', properties={}), Relationship(source=Node(id='Annie Cyprus', type='Customer', properties={}), target=Node(id='1702', type='Order_id', properties={}), type='ORDER_FINISHED', properties={}), Relationship(source=Node(id='Carl Ludwig', type='Customer', properties={}), target=Node(id='1761', type='Order_id', properties={}), type='ORDER_FINISHED', properties={}), Relationship(source=Node(id='Carlos Soltero', type='Customer', properties={}), target=Node(id='1792', type='Order_id', properties={}), type='ORDER_FINISHED', properties={})]\n"
     ]
    }
   ],
   "source": [
    "graph_documents = llm_transf.convert_to_graph_documents(documents)\n",
    "print(f\"Nodes: {graph_documents[0].nodes}\")\n",
    "print(f\"Relationships: {graph_documents[0].relationships}\")"
   ]
  },
  {
   "cell_type": "code",
   "execution_count": 8,
   "metadata": {},
   "outputs": [],
   "source": [
    "graph.add_graph_documents(graph_documents)"
   ]
  },
  {
   "cell_type": "code",
   "execution_count": 10,
   "metadata": {},
   "outputs": [
    {
     "data": {
      "text/plain": [
       "[{'n': {'id': 'Muhammed Mac Intyre'}},\n",
       " {'n': {'id': 'Barry French'}},\n",
       " {'n': {'id': 'Clay Rozendal'}},\n",
       " {'n': {'id': 'Carlos Soltero'}},\n",
       " {'n': {'id': 'Carl Jackson'}},\n",
       " {'n': {'id': 'Monica Federle'}},\n",
       " {'n': {'id': 'Dorothy Badders'}},\n",
       " {'n': {'id': 'Neola Schneider'}},\n",
       " {'n': {'id': 'Carlos Daly'}},\n",
       " {'n': {'id': 'Claudia Miner'}},\n",
       " {'n': {'id': 'Allen Rosenblatt'}},\n",
       " {'n': {'id': 'Sylvia Foulston'}},\n",
       " {'n': {'id': 'Jim Radford'}},\n",
       " {'n': {'id': 'Carl Ludwig'}},\n",
       " {'n': {'id': 'Don Miller'}},\n",
       " {'n': {'id': 'Annie Cyprus'}}]"
      ]
     },
     "execution_count": 10,
     "metadata": {},
     "output_type": "execute_result"
    }
   ],
   "source": [
    "graph.query(\"\"\"\n",
    "        MATCH (n:Customer) RETURN n\n",
    "\"\"\")"
   ]
  },
  {
   "cell_type": "code",
   "execution_count": 11,
   "metadata": {},
   "outputs": [
    {
     "data": {
      "text/plain": [
       "'Node properties:\\n\\nRelationship properties:\\n\\nThe relationships:\\n'"
      ]
     },
     "execution_count": 11,
     "metadata": {},
     "output_type": "execute_result"
    }
   ],
   "source": [
    "graph.schema"
   ]
  },
  {
   "cell_type": "code",
   "execution_count": 13,
   "metadata": {},
   "outputs": [],
   "source": [
    "from langchain.chains import GraphCypherQAChain\n",
    "chain = GraphCypherQAChain.from_llm(\n",
    "    graph = graph, \n",
    "    llm = llm, \n",
    "    verbose = True, \n",
    "    allow_dangerous_requests = True\n",
    ")"
   ]
  },
  {
   "cell_type": "code",
   "execution_count": 16,
   "metadata": {},
   "outputs": [
    {
     "name": "stdout",
     "output_type": "stream",
     "text": [
      "\n",
      "\n",
      "\u001b[1m> Entering new GraphCypherQAChain chain...\u001b[0m\n",
      "Generated Cypher:\n",
      "\u001b[32;1m\u001b[1;3mMATCH (c:Customer)\n",
      "RETURN c;\u001b[0m\n",
      "Full Context:\n",
      "\u001b[32;1m\u001b[1;3m[{'c': {'id': 'Muhammed Mac Intyre'}}, {'c': {'id': 'Barry French'}}, {'c': {'id': 'Clay Rozendal'}}, {'c': {'id': 'Carlos Soltero'}}, {'c': {'id': 'Carl Jackson'}}, {'c': {'id': 'Monica Federle'}}, {'c': {'id': 'Dorothy Badders'}}, {'c': {'id': 'Neola Schneider'}}, {'c': {'id': 'Carlos Daly'}}, {'c': {'id': 'Claudia Miner'}}]\u001b[0m\n",
      "\n",
      "\u001b[1m> Finished chain.\u001b[0m\n"
     ]
    },
    {
     "data": {
      "text/plain": [
       "{'query': 'Give the list of Customer',\n",
       " 'result': 'Muhammed Mac Intyre, Barry French, Clay Rozendal, Carlos Soltero, Carl Jackson, Monica Federle, Dorothy Badders, Neola Schneider, Carlos Daly, Claudia Miner.'}"
      ]
     },
     "execution_count": 16,
     "metadata": {},
     "output_type": "execute_result"
    }
   ],
   "source": [
    "chain.invoke(\"Give the list of Customer\")"
   ]
  },
  {
   "cell_type": "code",
   "execution_count": null,
   "metadata": {},
   "outputs": [],
   "source": []
  }
 ],
 "metadata": {
  "kernelspec": {
   "display_name": "dev",
   "language": "python",
   "name": "python3"
  },
  "language_info": {
   "codemirror_mode": {
    "name": "ipython",
    "version": 3
   },
   "file_extension": ".py",
   "mimetype": "text/x-python",
   "name": "python",
   "nbconvert_exporter": "python",
   "pygments_lexer": "ipython3",
   "version": "3.12.4"
  }
 },
 "nbformat": 4,
 "nbformat_minor": 2
}
