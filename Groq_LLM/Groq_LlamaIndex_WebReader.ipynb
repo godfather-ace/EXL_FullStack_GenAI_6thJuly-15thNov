{
 "cells": [
  {
   "cell_type": "markdown",
   "metadata": {},
   "source": [
    "##### Installing Libraries"
   ]
  },
  {
   "cell_type": "code",
   "execution_count": null,
   "metadata": {},
   "outputs": [],
   "source": [
    "#%pip install llama-index llama-index-llms-groq llama-index-readers-web\n",
    "# llama-index => core llamaindex framework\n",
    "# llama-index-llms-groq => groq llm integration with llamaindex\n",
    "# pip install pydantic (in case of pydantic error)"
   ]
  },
  {
   "cell_type": "markdown",
   "metadata": {},
   "source": [
    "##### Initializing Groq API"
   ]
  },
  {
   "cell_type": "code",
   "execution_count": 1,
   "metadata": {},
   "outputs": [
    {
     "data": {
      "text/plain": [
       "True"
      ]
     },
     "execution_count": 1,
     "metadata": {},
     "output_type": "execute_result"
    }
   ],
   "source": [
    "from dotenv import load_dotenv\n",
    "import os\n",
    "\n",
    "load_dotenv()"
   ]
  },
  {
   "cell_type": "markdown",
   "metadata": {},
   "source": [
    "##### Importing Libraries"
   ]
  },
  {
   "cell_type": "code",
   "execution_count": 14,
   "metadata": {},
   "outputs": [],
   "source": [
    "from llama_index.core import (\n",
    "    Settings, # setting the configuration of LLM to be used\n",
    "    VectorStoreIndex, # default vector store indexing used in llamaindex\n",
    ")\n",
    "from llama_index.readers.web import SimpleWebPageReader \n",
    "from llama_index.embeddings.huggingface import HuggingFaceEmbedding # using HuggingFace embeddings\n",
    "from llama_index.llms.groq import Groq # using Groq LLM "
   ]
  },
  {
   "cell_type": "markdown",
   "metadata": {},
   "source": [
    "##### Llama-index Settings (LLM and Embedding Model)"
   ]
  },
  {
   "cell_type": "code",
   "execution_count": 15,
   "metadata": {},
   "outputs": [],
   "source": [
    "llm_model = Groq(model = \"llama3-8b-8192\")\n",
    "embedding_model = HuggingFaceEmbedding(model_name = \"BAAI/bge-small-en-v1.5\")\n",
    "\n",
    "Settings.llm = llm_model\n",
    "Settings.embed_model = embedding_model"
   ]
  },
  {
   "cell_type": "markdown",
   "metadata": {},
   "source": [
    "##### Loading data from Webpage"
   ]
  },
  {
   "cell_type": "code",
   "execution_count": null,
   "metadata": {},
   "outputs": [],
   "source": [
    "documents = SimpleWebPageReader(html_to_text = True).load_data(\n",
    "    [\"https://www.exlservice.com/\", \"https://www.exlservice.com/about/partnerships\", \"https://exlcareers.peoplestrong.com/job/joblist\"]\n",
    ")"
   ]
  },
  {
   "cell_type": "markdown",
   "metadata": {},
   "source": [
    "##### Indexing and Querying Data"
   ]
  },
  {
   "cell_type": "code",
   "execution_count": 11,
   "metadata": {},
   "outputs": [
    {
     "name": "stdout",
     "output_type": "stream",
     "text": [
      "EXL provides the following solutions:\n",
      "\n",
      "1. Data Analytics\n",
      "2. Digital Transformation\n",
      "3. Digital Operations\n",
      "4. Data-Led Marketing\n",
      "5. Analytics & AI\n",
      "6. Data Management\n",
      "7. Generative AI\n",
      "8. Customer Experience\n",
      "9. Digital & AI Solutions\n",
      "10. Digital Consulting & Implementation\n"
     ]
    }
   ],
   "source": [
    "index = VectorStoreIndex.from_documents(documents)\n",
    "query_engine = index.as_query_engine()\n",
    "response = query_engine.query(\"What are the different solutions provided by EXL?\")\n",
    "print(response)"
   ]
  },
  {
   "cell_type": "code",
   "execution_count": 13,
   "metadata": {},
   "outputs": [
    {
     "name": "stdout",
     "output_type": "stream",
     "text": [
      "Here is the list of partner names mentioned in the context:\n",
      "\n",
      "1. Google Cloud\n",
      "2. Microsoft\n",
      "3. AWS - Amazon Web Services\n",
      "4. NVIDIA\n",
      "5. Databricks\n",
      "6. Salesforce\n",
      "7. servicenow\n",
      "8. UiPath\n",
      "9. Appian\n",
      "10. snowflake\n",
      "11. snapLogic\n",
      "12. ABBYY\n",
      "13. Alttrax\n",
      "14. Amelia\n",
      "15. ASAPP\n",
      "16. Benekiva\n",
      "17. Madstreetden\n",
      "18. Blox.ai\n",
      "19. Blue Prism\n",
      "20. Brown & Brown\n",
      "21. Centrl\n",
      "22. Certificial\n",
      "23. Corridor Platforms\n"
     ]
    }
   ],
   "source": [
    "response = query_engine.query(\"List the names of partners?\")\n",
    "print(response)"
   ]
  },
  {
   "cell_type": "code",
   "execution_count": 20,
   "metadata": {},
   "outputs": [
    {
     "name": "stdout",
     "output_type": "stream",
     "text": [
      "The ideal candidate for the Lead Assistant Manager role at EXL in Healthcare Analytics should possess a strong foundation in data analytics, AI, and digital transformation. They should have expertise in data management, analytics and AI, data-led marketing, and digital consulting and implementation. Additionally, they should have a deep understanding of the healthcare industry and its challenges, as well as the ability to provide strategic insights and recommendations to clients.\n"
     ]
    }
   ],
   "source": [
    "response = query_engine.query(\"What are the required skills for Lead Assistant Manager at EXL in Healthcare Analytics?\")\n",
    "print(response)"
   ]
  },
  {
   "cell_type": "code",
   "execution_count": null,
   "metadata": {},
   "outputs": [],
   "source": []
  }
 ],
 "metadata": {
  "kernelspec": {
   "display_name": "dev",
   "language": "python",
   "name": "python3"
  },
  "language_info": {
   "codemirror_mode": {
    "name": "ipython",
    "version": 3
   },
   "file_extension": ".py",
   "mimetype": "text/x-python",
   "name": "python",
   "nbconvert_exporter": "python",
   "pygments_lexer": "ipython3",
   "version": "3.12.4"
  }
 },
 "nbformat": 4,
 "nbformat_minor": 2
}
